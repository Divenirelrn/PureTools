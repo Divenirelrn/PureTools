{
 "cells": [
  {
   "cell_type": "markdown",
   "metadata": {},
   "source": [
    "常用指令"
   ]
  },
  {
   "cell_type": "markdown",
   "metadata": {},
   "source": [
    "本地库初始化：\n",
    "    git init"
   ]
  },
  {
   "cell_type": "markdown",
   "metadata": {},
   "source": [
    "设置签名：\n",
    "    git config user.name zhaolu <br />\n",
    "    git config user.email zhaolu@163.com"
   ]
  },
  {
   "cell_type": "markdown",
   "metadata": {},
   "source": [
    "添加提交：<br />\n",
    "查看状态：git status<br />\n",
    "git add good.txt<br />\n",
    "撤销add: git rm --cached good.txt<br />\n",
    "git commit -m \"...\""
   ]
  },
  {
   "cell_type": "markdown",
   "metadata": {},
   "source": [
    "分支管理：<br />\n",
    "git branch -v<br />\n",
    "git branch hot_fix<br />\n",
    "git checkout hot_fix"
   ]
  },
  {
   "cell_type": "markdown",
   "metadata": {},
   "source": [
    "合并分支：<br />\n",
    "切换到主分支 -> git merge hot-fix"
   ]
  },
  {
   "cell_type": "markdown",
   "metadata": {},
   "source": [
    "远程库：<br />\n",
    "git remote -v<br />\n",
    "git remote add origin ...<br />\n",
    "git push origin master<br />\n",
    "git remote rm origin "
   ]
  },
  {
   "cell_type": "markdown",
   "metadata": {},
   "source": [
    "克隆：<br />\n",
    "git clone ..."
   ]
  },
  {
   "cell_type": "markdown",
   "metadata": {},
   "source": [
    "远程库修改的拉取：<br />\n",
    "git pull<br />\n",
    "协同开发时冲突的解决：先git pull再git commit"
   ]
  },
  {
   "cell_type": "markdown",
   "metadata": {},
   "source": [
    "ssh免密登录：<br />\n",
    "cd ~<br />\n",
    "rm -r .ssh/<br />\n",
    "ssh-keygen -t rsa -c zhaolu@163.com<br />\n",
    "id_rsa.pub -> github(new SSH key)"
   ]
  },
  {
   "cell_type": "code",
   "execution_count": null,
   "metadata": {},
   "outputs": [],
   "source": []
  }
 ],
 "metadata": {
  "kernelspec": {
   "display_name": "Python 3",
   "language": "python",
   "name": "python3"
  },
  "language_info": {
   "codemirror_mode": {
    "name": "ipython",
    "version": 3
   },
   "file_extension": ".py",
   "mimetype": "text/x-python",
   "name": "python",
   "nbconvert_exporter": "python",
   "pygments_lexer": "ipython3",
   "version": "3.7.6"
  }
 },
 "nbformat": 4,
 "nbformat_minor": 4
}
